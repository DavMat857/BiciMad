{
 "cells": [
  {
   "attachments": {},
   "cell_type": "markdown",
   "metadata": {},
   "source": [
    "# Vamos a comenzar mostrando datos acerca del archivo `DatosDeUso_12_2020`\n",
    "### Este archivo contiene datos relacionados con los datos de uso de diciembre de 2020\n",
    "\n",
    "#### Comenzamos trabajando con DataFrames\n",
    "En primer lugar vamos a iniciar la sesión en spark y el nombre del fichero, para a continuación visualizar las columnas con las que vamos a trabajar, y posteriormente la definiremos"
   ]
  },
  {
   "cell_type": "code",
   "execution_count": 11,
   "metadata": {},
   "outputs": [
    {
     "name": "stdout",
     "output_type": "stream",
     "text": [
      "Vamos a mostrar las columnas acerca de los datos\n",
      " ['_id', 'ageRange', 'idplug_base', 'idplug_station', 'idunplug_base', 'idunplug_station', 'travel_time', 'unplug_hourTime', 'user_day_code', 'user_type', 'zip_code']\n",
      "\n",
      "Mostraremos a continuación un ejemplo de los datos que usamos\n",
      " [Row(_id=Row($oid='5fcc10fc1b91315b982817bd'), ageRange=4, idplug_base=16, idplug_station=182, idunplug_base=8, idunplug_station=71, travel_time=337, unplug_hourTime='2020-12-01T00:00:00Z', user_day_code='1b9453cb0a60d9826d01a247deb208cff8f47a4cc74903b09a09571877e10738', user_type=1, zip_code='28012')]\n"
     ]
    }
   ],
   "source": [
    "from pyspark.sql import SparkSession\n",
    "spark = SparkSession.builder.getOrCreate()\n",
    "\n",
    "filename = \"DatosDeUso_12_2020.json\"\n",
    "\n",
    "df = spark.read.json(filename)\n",
    "print(\"Vamos a mostrar las columnas acerca de los datos\\n\",df.columns)\n",
    "print(\"\\nMostraremos a continuación un ejemplo de los datos que usamos\\n\", df.take(1))"
   ]
  },
  {
   "attachments": {},
   "cell_type": "markdown",
   "metadata": {},
   "source": [
    "### Tenemos los siguientes elementos \n",
    "\n",
    "- id: identificador del movimiento.\n",
    "\n",
    "- ageRange: número que indica el rango de edad del usuario que ha realizado el movimiento. Sus posibles valores son:\n",
    "    * 0: No se ha podido determinar el rango de edad del usuario\n",
    "    * 1: El usuario tiene entre 0 y 16 años\n",
    "    * 2: El usuario tiene entre 17 y 18 años\n",
    "    * 3: El usuario tiene entre 19 y 26 años\n",
    "    * 4: El usuario tiene entre 27 y 40 años\n",
    "    * 5: El usuario tiene entre 41 y 65 años\n",
    "    * 6: El usuario tiene 66 años o más\n",
    "\n",
    "- idplug_base: Número de la base en la que se engancha la bicicleta.\n",
    "\n",
    "- idunplug_base: Número de la base de la que se desengancha la bicicleta.\n",
    "\n",
    "- idplug_station: Número de la estación en la que se engancha la bicicleta.\n",
    "\n",
    "- idunplug_station: Número de la estación de la que se desengancha la bicicleta.\n",
    "\n",
    "- travel_time: Tiempo total en segundos, entre el desenganche y el enganche de la\n",
    "bicicleta.\n",
    "\n",
    "- unplug_hourTime: Franja horaria en la que se realiza el desenganche de la bicicleta.\n",
    "Por cuestiones de anonimato, se facilita la hora de inicio del movimiento, sin la\n",
    "información de minutos y segundos. Todos los movimientos iniciados durante la\n",
    "misma hora, tendrán el mismo dato de inicio.\n",
    "\n",
    "- user_day_code: Código del usuario. Para una misma fecha, todos los movimientos de\n",
    "un mismo usuario, tendrán el mismo código, con el fin de poder realizar estudios\n",
    "estadísticos de las tendencias diarias de los usuarios.\n",
    "\n",
    "- user_type: Número que indica el tipo de usuario que ha realizado el movimiento. Sus\n",
    "posibles valores son:\n",
    "* 0: No se ha podido determinar el tipo de usuario\n",
    "* 1: Usuario anual (poseedor de un pase anual)\n",
    "* 2: Usuario ocasional\n",
    "* 3: Trabajador de la empresa\n",
    "\n",
    "- zip_code: Texto que indica el código postal del usuario que ha realizado el movimiento.\n"
   ]
  },
  {
   "cell_type": "code",
   "execution_count": 2,
   "metadata": {},
   "outputs": [
    {
     "data": {
      "text/plain": [
       "['_id',\n",
       " 'ageRange',\n",
       " 'idplug_base',\n",
       " 'idplug_station',\n",
       " 'idunplug_base',\n",
       " 'idunplug_station',\n",
       " 'travel_time',\n",
       " 'unplug_hourTime',\n",
       " 'user_day_code',\n",
       " 'user_type']"
      ]
     },
     "execution_count": 2,
     "metadata": {},
     "output_type": "execute_result"
    }
   ],
   "source": [
    "# En el caso que no queramos utilizar alguna columna para el tratamiento de los datos,\n",
    "# simplemente con .drop(nombre_columna) eliminamos esos datos\n",
    "\n",
    "df_sin_zip_code = df.drop('zip_code')\n",
    "df_sin_zip_code.columns\n"
   ]
  },
  {
   "cell_type": "code",
   "execution_count": 13,
   "metadata": {},
   "outputs": [
    {
     "data": {
      "text/plain": [
       "[Row(ageRange=0, count=144033),\n",
       " Row(ageRange=6, count=1310),\n",
       " Row(ageRange=5, count=49799),\n",
       " Row(ageRange=1, count=2221),\n",
       " Row(ageRange=3, count=10573),\n",
       " Row(ageRange=2, count=1046),\n",
       " Row(ageRange=4, count=56279)]"
      ]
     },
     "execution_count": 13,
     "metadata": {},
     "output_type": "execute_result"
    }
   ],
   "source": [
    "lista"
   ]
  },
  {
   "cell_type": "code",
   "execution_count": 15,
   "metadata": {},
   "outputs": [
    {
     "name": "stdout",
     "output_type": "stream",
     "text": [
      "Vamos a motrar datos acerca de los usos de BiciMad en función de las edades:\n",
      "+--------+------+\n",
      "|ageRange| count|\n",
      "+--------+------+\n",
      "|       0|144033|\n",
      "|       6|  1310|\n",
      "|       5| 49799|\n",
      "|       1|  2221|\n",
      "|       3| 10573|\n",
      "|       2|  1046|\n",
      "|       4| 56279|\n",
      "+--------+------+\n",
      "\n"
     ]
    },
    {
     "name": "stderr",
     "output_type": "stream",
     "text": [
      "C:\\Users\\azize\\AppData\\Local\\Temp\\ipykernel_14952\\1102229475.py:17: UserWarning: Matplotlib is currently using module://matplotlib_inline.backend_inline, which is a non-GUI backend, so cannot show the figure.\n",
      "  fig.show()\n"
     ]
    },
    {
     "data": {
      "image/png": "[encoded data removed]",
      "text/plain": [
       "<Figure size 640x480 with 1 Axes>"
      ]
     },
     "metadata": {},
     "output_type": "display_data"
    }
   ],
   "source": [
    "# De manera análoga también podría ser útil trabajar con una sola columna para ello usamos groupBy(nombre_columna)\n",
    "df_edad = df.groupBy('ageRange').count()\n",
    "print(\"Vamos a motrar datos acerca de los usos de BiciMad en función de las edades:\")\n",
    "df_edad.show()\n",
    "\n",
    "#Vamos a realizar un histograma para visualizar los datos de manera gráfica\n",
    "lista = df_edad.collect()\n",
    "edad = [i[0] for i in lista]\n",
    "datos = [i[1] for i in lista]\n",
    "\n",
    "\n",
    "import matplotlib.pyplot as plt\n",
    "fig, ax = plt.subplots()\n",
    "ax.bar(edad,datos)\n",
    "ax.set_xlabel(\"Edades\")\n",
    "ax.set_ylabel(\"Cantidad de viajes\")\n",
    "fig.show()"
   ]
  },
  {
   "attachments": {},
   "cell_type": "markdown",
   "metadata": {},
   "source": [
    "**Ahora vamos a realizar vamos a mostrar una opción de preprocesado de datos**"
   ]
  },
  {
   "attachments": {},
   "cell_type": "markdown",
   "metadata": {},
   "source": [
    "Supongamos que queremos eliminar la edad de tipo '0' debido a que no nos ofrece información de la edad, utilizaremos filter.\n",
    "Hagamos esto para el caso anterior."
   ]
  },
  {
   "cell_type": "code",
   "execution_count": 16,
   "metadata": {},
   "outputs": [
    {
     "name": "stderr",
     "output_type": "stream",
     "text": [
      "C:\\Users\\azize\\AppData\\Local\\Temp\\ipykernel_14952\\800976701.py:18: UserWarning: Matplotlib is currently using module://matplotlib_inline.backend_inline, which is a non-GUI backend, so cannot show the figure.\n",
      "  fig.show()\n"
     ]
    },
    {
     "data": {
      "image/png": "[encoded data removed]",
      "text/plain": [
       "<Figure size 640x480 with 1 Axes>"
      ]
     },
     "metadata": {},
     "output_type": "display_data"
    }
   ],
   "source": [
    "df_filter0 = df.filter(df['ageRange'] != 0 )\n",
    "df_filter0 = df_filter0.groupBy('ageRange').count()\n",
    "#df_filter0.show()\n",
    "edad = df_filter0.select(\"ageRange\")\n",
    "datos = df_filter0.select(\"count\")\n",
    "\n",
    "\n",
    "lista = df_filter0.collect()\n",
    "edad = [i[0] for i in lista]\n",
    "datos = [i[1] for i in lista]\n",
    "\n",
    "\n",
    "import matplotlib.pyplot as plt\n",
    "fig, ax = plt.subplots()\n",
    "ax.bar(list(edad),list(datos))\n",
    "ax.set_xlabel(\"Edades\")\n",
    "ax.set_ylabel(\"Cantidad de viajes\")\n",
    "fig.show()"
   ]
  },
  {
   "attachments": {},
   "cell_type": "markdown",
   "metadata": {},
   "source": [
    "## Voy a mostrar un ejemplo con estos datos que haremos después \n",
    "\n",
    "# Problema 1: cliente objetivo [soltar_texto_medioambiental]"
   ]
  },
  {
   "attachments": {},
   "cell_type": "markdown",
   "metadata": {},
   "source": [
    "Nuestra idea para trabajar en este problema es contabilizar datos acerca de los clientes en función de:\n",
    "\n",
    "1. Edad (*ageRange*).\n",
    "2. Tiempo de viaje (*travel_time*).\n",
    "3. zona de uso.\n",
    "\n",
    "\n",
    "Comenzaremos realizando un filtrado de datos\n",
    "\n",
    "* En relación a la edad nos interesa eliminar el 0 que no ofrece datos sobre la edad.\n",
    "\n",
    "* En relación al tiempo de uso deberemos de eliminar los viajes de menos de 60 segundos, pues estos podrían estar relacionados con errore como\n",
    "que no funcione la bici, o que hayas cambiado de opinión sobre usar la bici.\n",
    "\n",
    "* En relación al código postal, debemos de eliminar aquellos clientes que no lo han añadido.\n",
    "\n",
    "* Podemos eliminar también los trabajadores de la empresa biciMad ya que esta dirigido a los clientes.\n",
    "\n"
   ]
  },
  {
   "cell_type": "code",
   "execution_count": 20,
   "metadata": {},
   "outputs": [
    {
     "name": "stdout",
     "output_type": "stream",
     "text": [
      "El tiempo medio de viaje es: 15 minutos y 31 segundos\n",
      "+---------+-----+\n",
      "| zip_code|count|\n",
      "+---------+-----+\n",
      "|    28039| 1415|\n",
      "|    28500|   53|\n",
      "|    28600|   19|\n",
      "|    28053|  429|\n",
      "|    08030|    9|\n",
      "|    28034|  206|\n",
      "|    28341|   11|\n",
      "|    15006|   19|\n",
      "|    39005|    8|\n",
      "|    42285|   14|\n",
      "|    28019|  973|\n",
      "|    28400|   87|\n",
      "|    28220|   85|\n",
      "|    28840|   20|\n",
      "|    07002|    8|\n",
      "|ureaofs20|    2|\n",
      "|    11500|    2|\n",
      "|    28020| 2565|\n",
      "|    50011|   27|\n",
      "|    03440|   17|\n",
      "+---------+-----+\n",
      "only showing top 20 rows\n",
      "\n"
     ]
    }
   ],
   "source": [
    "\n",
    "\n",
    "df_filtrado = df.filter(df['ageRange'] != 0 )\n",
    "df_filtrado = df_filtrado.filter(df_filtrado['travel_time'] > 60 )\n",
    "df_filtrado = df_filtrado.filter(df_filtrado['zip_code'] != '' )\n",
    "df_filtrado = df_filtrado.filter(df_filtrado['user_type'] != 3 )\n",
    "\n",
    "# df_filtrado.groupBy(['ageRange']).count().show()  # TODO: duplicado?\n",
    "\n",
    "#Podemos realizar clusters sobre el tiempo o calcular la media simplemente\n",
    "from pyspark.sql.functions import mean\n",
    "\n",
    "travel_time = df_filtrado.select(['travel_time'])\n",
    "# travel_time.show()  # TODO: necesario?\n",
    "mean_time = df_filtrado.select(mean('travel_time')).collect()[0][0]\n",
    "print(f\"El tiempo medio de viaje es: {int(mean_time // 60)} minutos y {int(mean_time % 60)} segundos\")\n",
    "\n",
    "df_filtrado.groupBy(['zip_code']).count().show()\n",
    "\n",
    "\n"
   ]
  },
  {
   "cell_type": "code",
   "execution_count": 21,
   "metadata": {},
   "outputs": [],
   "source": [
    "#Paramos la anterior sesion\n",
    "spark.stop()"
   ]
  },
  {
   "attachments": {},
   "cell_type": "markdown",
   "metadata": {},
   "source": [
    "# Ahora vamos a trabajar con los archivos de otra forma distinta al DataFrame, con rdd (Aparentemente es más sencillo)\n",
    "#### Pudiendo elegir de cara al siguiente fichero donde estamos más cómodos o saber ventajas y desventajas"
   ]
  },
  {
   "cell_type": "code",
   "execution_count": 22,
   "metadata": {},
   "outputs": [],
   "source": [
    "from pyspark import SparkContext\n",
    "sc = SparkContext()"
   ]
  },
  {
   "cell_type": "code",
   "execution_count": 117,
   "metadata": {},
   "outputs": [
    {
     "name": "stdout",
     "output_type": "stream",
     "text": [
      "{\"_id\": {\"$oid\": \"5fcc10fc1b91315b982817bd\"}, \"user_day_code\": \"1b9453cb0a60d9826d01a247deb208cff8f47a4cc74903b09a09571877e10738\", \"idplug_base\": 16, \"user_type\": 1, \"idunplug_base\": 8, \"travel_time\": 337, \"idunplug_station\": 71, \"ageRange\": 4, \"idplug_station\": 182, \"unplug_hourTime\": \"2020-12-01T00:00:00Z\", \"zip_code\": \"28012\"}\n",
      "{\"_id\": {\"$oid\": \"5fcc10fc1b91315b982817be\"}, \"user_day_code\": \"29fe8cf0fb57fdfc4c1ef5a51fbd1222afea11d33a6e090a0b642ee1b92b2aa8\", \"idplug_base\": 19, \"user_type\": 1, \"idunplug_base\": 1, \"travel_time\": 190, \"idunplug_station\": 35, \"ageRange\": 0, \"idplug_station\": 18, \"unplug_hourTime\": \"2020-12-01T00:00:00Z\", \"zip_code\": \"\"}\n",
      "{\"_id\": {\"$oid\": \"5fcc10fc1b91315b982817c0\"}, \"user_day_code\": \"051f14e387dd8f5442f9c4cd6e3db915c48ff64bbb8c531df085b392d902ee25\", \"idplug_base\": 14, \"user_type\": 1, \"idunplug_base\": 21, \"travel_time\": 354, \"idunplug_station\": 46, \"ageRange\": 4, \"idplug_station\": 175, \"unplug_hourTime\": \"2020-12-01T00:00:00Z\", \"zip_code\": \"28012\"}\n",
      "{\"_id\": {\"$oid\": \"5fcc10fc1b91315b982817c9\"}, \"user_day_code\": \"22027cf06c0f88ce8aa25455e7571c24ba7c3a200cd1a1147fdd0dc2831f4cb2\", \"idplug_base\": 19, \"user_type\": 1, \"idunplug_base\": 8, \"travel_time\": 554, \"idunplug_station\": 58, \"ageRange\": 0, \"idplug_station\": 57, \"unplug_hourTime\": \"2020-12-01T00:00:00Z\", \"zip_code\": \"\"}\n",
      "{\"_id\": {\"$oid\": \"5fcc10fc1b91315b982817ca\"}, \"user_day_code\": \"fd0e999b7061ad83e4e7436aca5045710f2f6b6275327b342ac8a34d27ca1103\", \"idplug_base\": 23, \"user_type\": 1, \"idunplug_base\": 2, \"travel_time\": 774, \"idunplug_station\": 57, \"ageRange\": 4, \"idplug_station\": 170, \"unplug_hourTime\": \"2020-12-01T00:00:00Z\", \"zip_code\": \"28004\"}\n",
      "{\"_id\": {\"$oid\": \"5fcc10fc1b91315b982817cb\"}, \"user_day_code\": \"3775182f8dddbfc451255f0cffb69d9ff3722bdc81496a5842371c9b1cd030a1\", \"idplug_base\": 8, \"user_type\": 1, \"idunplug_base\": 15, \"travel_time\": 921, \"idunplug_station\": 104, \"ageRange\": 0, \"idplug_station\": 4, \"unplug_hourTime\": \"2020-12-01T00:00:00Z\", \"zip_code\": \"\"}\n",
      "{\"_id\": {\"$oid\": \"5fcc10fc1b91315b982817cf\"}, \"user_day_code\": \"5b25dfe29e1d6347875eea4a7ece5ca2c1b657ecee55dc050297400119c1cf7e\", \"idplug_base\": 4, \"user_type\": 1, \"idunplug_base\": 19, \"travel_time\": 233, \"idunplug_station\": 54, \"ageRange\": 5, \"idplug_station\": 134, \"unplug_hourTime\": \"2020-12-01T00:00:00Z\", \"zip_code\": \"28015\"}\n",
      "{\"_id\": {\"$oid\": \"5fcc10fc1b91315b982817d0\"}, \"user_day_code\": \"247ec427204a64b9cb7305999214d693ac5fc3e48efc7a3af41d00e05017e352\", \"idplug_base\": 1, \"user_type\": 1, \"idunplug_base\": 21, \"travel_time\": 1020, \"idunplug_station\": 58, \"ageRange\": 0, \"idplug_station\": 136, \"unplug_hourTime\": \"2020-12-01T00:00:00Z\", \"zip_code\": \"\"}\n",
      "{\"_id\": {\"$oid\": \"5fcc10fc1b91315b982817d2\"}, \"user_day_code\": \"253b39c1c7c37a35cd36c1c05043bfc65b944cce0568752c6fdf699efa93db24\", \"idplug_base\": 20, \"user_type\": 1, \"idunplug_base\": 11, \"travel_time\": 1209, \"idunplug_station\": 145, \"ageRange\": 4, \"idplug_station\": 89, \"unplug_hourTime\": \"2020-12-01T00:00:00Z\", \"zip_code\": \"28007\"}\n",
      "{\"_id\": {\"$oid\": \"5fcc10fc1b91315b982817d4\"}, \"user_day_code\": \"3130c738536edae5629e0f9b8dbf0ccbc6c08b4600d2e32349b11bd9ec308154\", \"idplug_base\": 6, \"user_type\": 1, \"idunplug_base\": 10, \"travel_time\": 544, \"idunplug_station\": 215, \"ageRange\": 3, \"idplug_station\": 225, \"unplug_hourTime\": \"2020-12-01T00:00:00Z\", \"zip_code\": \"\"}\n"
     ]
    }
   ],
   "source": [
    "!head -10 \"DatosDeUso_12_2020.json\""
   ]
  },
  {
   "cell_type": "code",
   "execution_count": 24,
   "metadata": {},
   "outputs": [
    {
     "data": {
      "text/plain": [
       "265261"
      ]
     },
     "execution_count": 24,
     "metadata": {},
     "output_type": "execute_result"
    }
   ],
   "source": [
    "import json\n",
    "\n",
    "rdd_base = sc.textFile('DatosDeUso_12_2020.json')\n",
    "# rdd_base.take(2) # TODO: funciona esto?\n",
    "\n",
    "# Si queremos una columna en especial\n",
    "\n",
    "def columna(line):\n",
    "    data = json.loads(line)\n",
    "    u_t = data['user_type']\n",
    "    return u_t\n",
    "\n",
    "tipo_usuarios = rdd_base.map(columna)\n",
    "\n",
    "tipo_usuarios.take(10)\n",
    "\n",
    "#Si quiero la cantidad de usuarios estableciendo un sistema de valores donde su valor está en función de su tipo de usuario\n",
    "\n",
    "tipo_usuarios.count()"
   ]
  },
  {
   "cell_type": "code",
   "execution_count": 25,
   "metadata": {},
   "outputs": [
    {
     "data": {
      "text/plain": [
       "[(1,\n",
       "  '1b9453cb0a60d9826d01a247deb208cff8f47a4cc74903b09a09571877e10738',\n",
       "  71,\n",
       "  182,\n",
       "  337),\n",
       " (1,\n",
       "  '29fe8cf0fb57fdfc4c1ef5a51fbd1222afea11d33a6e090a0b642ee1b92b2aa8',\n",
       "  35,\n",
       "  18,\n",
       "  190)]"
      ]
     },
     "execution_count": 25,
     "metadata": {},
     "output_type": "execute_result"
    }
   ],
   "source": [
    "def mapper(line):\n",
    "    data = json.loads(line)\n",
    "    u_t = data['user_type']\n",
    "    u_c = data['user_day_code']\n",
    "    start = data['idunplug_station']\n",
    "    end = data['idplug_station']\n",
    "    time = data['travel_time']\n",
    "    return u_t, u_c, start, end, time\n",
    "\n",
    "rdd = rdd_base.map(mapper)\n",
    "rdd.take(2)\n",
    "\n"
   ]
  },
  {
   "attachments": {},
   "cell_type": "markdown",
   "metadata": {},
   "source": [
    " ## Analogo a lo de las edades "
   ]
  },
  {
   "cell_type": "code",
   "execution_count": 143,
   "metadata": {},
   "outputs": [
    {
     "name": "stderr",
     "output_type": "stream",
     "text": [
      "                                                                                \r"
     ]
    },
    {
     "name": "stdout",
     "output_type": "stream",
     "text": [
      "Mostrados los datos en relación a las edades defaultdict(<class 'int'>, {4: 56279, 0: 144033, 5: 49799, 3: 10573, 1: 2221, 6: 1310, 2: 1046})\n"
     ]
    },
    {
     "name": "stderr",
     "output_type": "stream",
     "text": [
      "/tmp/ipykernel_5448/3684889876.py:17: UserWarning: Matplotlib is currently using module://matplotlib_inline.backend_inline, which is a non-GUI backend, so cannot show the figure.\n",
      "  fig.show()\n"
     ]
    },
    {
     "name": "stdout",
     "output_type": "stream",
     "text": [
      "\n",
      " Vamos a realizar el mismo proceso pero filtrando datos\n",
      "\n"
     ]
    },
    {
     "data": {
      "image/png": "[encoded data removed]",
      "text/plain": [
       "<Figure size 432x288 with 1 Axes>"
      ]
     },
     "metadata": {
      "needs_background": "light"
     },
     "output_type": "display_data"
    }
   ],
   "source": [
    "#Partimos los datos \n",
    "\n",
    "def map_age(line):\n",
    "    data = json.loads(line)\n",
    "    a_r = data['ageRange']\n",
    "    return a_r\n",
    "\n",
    "edades = rdd_base.map(map_age).countByValue()\n",
    "print(\"Mostrados los datos en relación a las edades\",edades)\n",
    "\n",
    "#Realizaremos un histograma como antes\n",
    "import matplotlib.pyplot as plt\n",
    "fig, ax = plt.subplots()\n",
    "ax.bar(list(edades.keys()),list(edades.values()))\n",
    "ax.set_xlabel(\"Edades\")\n",
    "ax.set_ylabel(\"Cantidad de viajes\")\n",
    "fig.show()\n",
    "\n",
    "print(\"\\n Vamos a realizar el mismo proceso pero filtrando datos\\n\")\n",
    "#Quitaremos edades tipo 0 ; es mucho más sencillo"
   ]
  },
  {
   "cell_type": "code",
   "execution_count": 147,
   "metadata": {},
   "outputs": [
    {
     "name": "stderr",
     "output_type": "stream",
     "text": [
      "                                                                                \r"
     ]
    },
    {
     "data": {
      "text/plain": [
       "[(1,\n",
       "  '1b9453cb0a60d9826d01a247deb208cff8f47a4cc74903b09a09571877e10738',\n",
       "  71,\n",
       "  182,\n",
       "  337),\n",
       " (1,\n",
       "  '29fe8cf0fb57fdfc4c1ef5a51fbd1222afea11d33a6e090a0b642ee1b92b2aa8',\n",
       "  35,\n",
       "  18,\n",
       "  190)]"
      ]
     },
     "execution_count": 147,
     "metadata": {},
     "output_type": "execute_result"
    }
   ],
   "source": [
    "rdd.take(2)"
   ]
  },
  {
   "attachments": {},
   "cell_type": "markdown",
   "metadata": {},
   "source": [
    "### Vamos a filtrar sobre datos del tipo `rdd` \n",
    "Por lo tanto eliminamos esa variable, y luego aislamos el id del resto de datos"
   ]
  },
  {
   "cell_type": "code",
   "execution_count": 150,
   "metadata": {},
   "outputs": [
    {
     "name": "stderr",
     "output_type": "stream",
     "text": [
      "[Stage 31:======================================>                   (2 + 1) / 3]\r"
     ]
    },
    {
     "name": "stdout",
     "output_type": "stream",
     "text": [
      "La cantidad de usuarios tipo 1 es: 255154\n"
     ]
    },
    {
     "name": "stderr",
     "output_type": "stream",
     "text": [
      "                                                                                \r"
     ]
    }
   ],
   "source": [
    "select_type = 1\n",
    "rdd_users = rdd.filter(lambda x: x[0] == select_type).map(lambda x: (x[1],tuple(x[2:])))\n",
    "\n",
    "rdd_users.take(2)\n",
    "\n",
    "print(\"La cantidad de usuarios tipo 1 es:\" ,rdd_users.count())"
   ]
  },
  {
   "attachments": {},
   "cell_type": "markdown",
   "metadata": {},
   "source": [
    "### Vamos a trabajar con la información de origen y destino (de manera análoga trabajaremos en relación al medioambiente)"
   ]
  },
  {
   "cell_type": "code",
   "execution_count": 154,
   "metadata": {},
   "outputs": [
    {
     "name": "stderr",
     "output_type": "stream",
     "text": [
      "[Stage 36:======================================>                   (2 + 1) / 3]\r"
     ]
    },
    {
     "name": "stdout",
     "output_type": "stream",
     "text": [
      "La cantidad de viajes es: 255154\n"
     ]
    },
    {
     "name": "stderr",
     "output_type": "stream",
     "text": [
      "                                                                                \r"
     ]
    }
   ],
   "source": [
    "\"\"\"Datos a filtrar:\n",
    "(1,\n",
    "  '29fe8cf0fb57fdfc4c1ef5a51fbd1222afea11d33a6e090a0b642ee1b92b2aa8',\n",
    "  35, [queremos esto]\n",
    "  18, [queremos esto]\n",
    "  190)\"\"\"\n",
    "rdd_trips = rdd_users.map(lambda x: (x[1][0],x[1][1]))\n",
    "rdd_trips.take(2)\n",
    "\n",
    "print(\"La cantidad de viajes es:\", rdd_trips.count())"
   ]
  },
  {
   "cell_type": "markdown",
   "metadata": {},
   "source": []
  }
 ],
 "metadata": {
  "kernelspec": {
   "display_name": "Python 3",
   "language": "python",
   "name": "python3"
  },
  "language_info": {
   "codemirror_mode": {
    "name": "ipython",
    "version": 3
   },
   "file_extension": ".py",
   "mimetype": "text/x-python",
   "name": "python",
   "nbconvert_exporter": "python",
   "pygments_lexer": "ipython3",
   "version": "3.10.11"
  },
  "orig_nbformat": 4,
  "vscode": {
   "interpreter": {
    "hash": "1554ca09010399fa294997e9b93fe3492fe8acfeb68a288697aa104cf34db993"
   }
  }
 },
 "nbformat": 4,
 "nbformat_minor": 2
}
