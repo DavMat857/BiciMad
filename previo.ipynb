{
 "cells": [
  {
   "attachments": {},
   "cell_type": "markdown",
   "metadata": {},
   "source": [
    "\n",
    "# El objetivo de este notebook es explicar y llevar a cabo una primera etapa de análisis y visualización de la base de datos."
   ]
  },
  {
   "attachments": {},
   "cell_type": "markdown",
   "metadata": {},
   "source": [
    "Hay dos tipos distintos de archivos como se puede ver en `leyenda.pdf`:\n",
    "* Datos de uso -> registro de los viajes realizados\n",
    "* Situaciones de estaciones -> información de las estaciones cada hora"
   ]
  },
  {
   "attachments": {},
   "cell_type": "markdown",
   "metadata": {},
   "source": [
    "## Datos de uso"
   ]
  },
  {
   "cell_type": "code",
   "execution_count": 1,
   "metadata": {},
   "outputs": [
    {
     "name": "stdout",
     "output_type": "stream",
     "text": [
      "Vamos a mostrar las columnas acerca de los datos\n",
      " ['_id', 'ageRange', 'idplug_base', 'idplug_station', 'idunplug_base', 'idunplug_station', 'travel_time', 'unplug_hourTime', 'user_day_code', 'user_type', 'zip_code']\n",
      "\n",
      "Mostraremos a continuación un ejemplo de los datos que usamos\n",
      " [Row(_id=Row($oid='5fcc10fc1b91315b982817bd'), ageRange=4, idplug_base=16, idplug_station=182, idunplug_base=8, idunplug_station=71, travel_time=337, unplug_hourTime='2020-12-01T00:00:00Z', user_day_code='1b9453cb0a60d9826d01a247deb208cff8f47a4cc74903b09a09571877e10738', user_type=1, zip_code='28012')]\n"
     ]
    }
   ],
   "source": [
    "# Primero vamos a importar el archivo a utilizar\n",
    "import os\n",
    "\n",
    "# Obtenemos la ruta absoluta del archivo\n",
    "ruta_archivo = os.path.join(os.getcwd(), 'datos', 'movements', \"202012_movements.json\")\n",
    "\n",
    "# Lo procesamos con Spark\n",
    "from pyspark.sql import SparkSession\n",
    "spark = SparkSession.builder.getOrCreate()\n",
    "\n",
    "df_Datos12_2020 = spark.read.json(ruta_archivo)\n",
    "\n",
    "print(\"Vamos a mostrar las columnas acerca de los datos\\n\",df_Datos12_2020.columns)\n",
    "print(\"\\nMostraremos a continuación un ejemplo de los datos que usamos\\n\", df_Datos12_2020.take(1))"
   ]
  },
  {
   "cell_type": "code",
   "execution_count": 2,
   "metadata": {},
   "outputs": [
    {
     "data": {
      "text/plain": [
       "['_id',\n",
       " 'ageRange',\n",
       " 'idplug_base',\n",
       " 'idplug_station',\n",
       " 'idunplug_base',\n",
       " 'idunplug_station',\n",
       " 'travel_time',\n",
       " 'unplug_hourTime',\n",
       " 'user_day_code',\n",
       " 'user_type']"
      ]
     },
     "execution_count": 2,
     "metadata": {},
     "output_type": "execute_result"
    }
   ],
   "source": [
    "# En el caso que no queramos utilizar alguna columna para el tratamiento de los datos,\n",
    "# simplemente con .drop(nombre_columna) eliminamos esos datos\n",
    "\n",
    "df_sin_zip_code = df_Datos12_2020.drop('zip_code')\n",
    "df_sin_zip_code.columns"
   ]
  },
  {
   "cell_type": "code",
   "execution_count": 4,
   "metadata": {},
   "outputs": [
    {
     "name": "stdout",
     "output_type": "stream",
     "text": [
      "Vamos a motrar datos acerca de los usos de BiciMad en función de las edades:\n"
     ]
    },
    {
     "name": "stderr",
     "output_type": "stream",
     "text": [
      "                                                                                \r"
     ]
    },
    {
     "name": "stdout",
     "output_type": "stream",
     "text": [
      "+--------+------+\n",
      "|ageRange| count|\n",
      "+--------+------+\n",
      "|       0|144033|\n",
      "|       6|  1310|\n",
      "|       5| 49799|\n",
      "|       1|  2221|\n",
      "|       3| 10573|\n",
      "|       2|  1046|\n",
      "|       4| 56279|\n",
      "+--------+------+\n",
      "\n"
     ]
    },
    {
     "name": "stderr",
     "output_type": "stream",
     "text": [
      "/tmp/ipykernel_6033/3503417138.py:17: UserWarning: Matplotlib is currently using module://matplotlib_inline.backend_inline, which is a non-GUI backend, so cannot show the figure.\n",
      "  fig.show()\n"
     ]
    },
    {
     "data": {
      "image/png": "[encoded data removed]",
      "text/plain": [
       "<Figure size 432x288 with 1 Axes>"
      ]
     },
     "metadata": {
      "needs_background": "light"
     },
     "output_type": "display_data"
    }
   ],
   "source": [
    "# De manera análoga también podría ser útil trabajar con una sola columna para ello usamos groupBy(nombre_columna)\n",
    "df_edad = df_Datos12_2020.groupBy('ageRange').count()\n",
    "print(\"Vamos a motrar datos acerca de los usos de BiciMad en función de las edades:\")\n",
    "df_edad.show()\n",
    "\n",
    "#Vamos a realizar un histograma para visualizar los datos de manera gráfica\n",
    "lista = df_edad.collect()\n",
    "edad = [i[0] for i in lista]\n",
    "datos = [i[1] for i in lista]\n",
    "\n",
    "\n",
    "import matplotlib.pyplot as plt\n",
    "fig, ax = plt.subplots()\n",
    "ax.bar(edad,datos)\n",
    "ax.set_xlabel(\"Edades\")\n",
    "ax.set_ylabel(\"Cantidad de viajes\")\n",
    "fig.show()"
   ]
  },
  {
   "attachments": {},
   "cell_type": "markdown",
   "metadata": {},
   "source": [
    "**Ahora vamos a realizar vamos a mostrar una opción de preprocesado de datos**\n",
    "\n",
    "Supongamos que queremos eliminar la edad de tipo '0' debido a que no nos ofrece información de la edad, utilizaremos filter.\n",
    "Hagamos esto para el caso anterior.\n"
   ]
  },
  {
   "cell_type": "code",
   "execution_count": 5,
   "metadata": {},
   "outputs": [
    {
     "name": "stderr",
     "output_type": "stream",
     "text": [
      "/tmp/ipykernel_6033/162272001.py:18: UserWarning: Matplotlib is currently using module://matplotlib_inline.backend_inline, which is a non-GUI backend, so cannot show the figure.\n",
      "  fig.show()\n"
     ]
    },
    {
     "data": {
      "image/png": "[encoded data removed]",
      "text/plain": [
       "<Figure size 432x288 with 1 Axes>"
      ]
     },
     "metadata": {
      "needs_background": "light"
     },
     "output_type": "display_data"
    }
   ],
   "source": [
    "df_filter0 = df_Datos12_2020.filter(df_Datos12_2020['ageRange'] != 0 )\n",
    "df_filter0 = df_filter0.groupBy('ageRange').count()\n",
    "\n",
    "edad = df_filter0.select(\"ageRange\")\n",
    "datos = df_filter0.select(\"count\")\n",
    "\n",
    "\n",
    "lista = df_filter0.collect()\n",
    "edad = [i[0] for i in lista]\n",
    "datos = [i[1] for i in lista]\n",
    "\n",
    "\n",
    "import matplotlib.pyplot as plt\n",
    "fig, ax = plt.subplots()\n",
    "ax.bar(list(edad),list(datos))\n",
    "ax.set_xlabel(\"Edades\")\n",
    "ax.set_ylabel(\"Cantidad de viajes\")\n",
    "fig.show()"
   ]
  },
  {
   "attachments": {},
   "cell_type": "markdown",
   "metadata": {},
   "source": [
    "### Vamos a mostrar un ejemplo de lo que haremos gracias a estos datos:\n",
    "\n",
    "#### Búsqueda del cliente objetivo\n",
    "\n",
    "Nuestra idea para trabajar en este problema es contabilizar datos acerca de los clientes en función de:\n",
    "\n",
    "1. Edad (*ageRange*).\n",
    "2. Tiempo de viaje (*travel_time*).\n",
    "3. zona de uso.\n",
    "\n",
    "\n",
    "Comenzaremos realizando un filtrado de datos\n",
    "\n",
    "* En relación a la edad nos interesa eliminar el 0 que no ofrece datos sobre la edad.\n",
    "\n",
    "* En relación al tiempo de uso deberemos de eliminar los viajes de menos de 60 segundos, pues estos podrían estar relacionados con errore como\n",
    "que no funcione la bici, o que hayas cambiado de opinión sobre usar la bici.\n",
    "\n",
    "* En relación al código postal, debemos tomar aquellos clientes cuyo código postal comience por 28 que es el correspondiente a Madrid.\n",
    "\n",
    "* Podemos eliminar también los trabajadores de la empresa biciMad ya que esta dirigido a los clientes.\n",
    "\n",
    "* Además de más factores que se añadirán en la práctica"
   ]
  },
  {
   "cell_type": "code",
   "execution_count": 7,
   "metadata": {},
   "outputs": [
    {
     "name": "stderr",
     "output_type": "stream",
     "text": [
      "                                                                                \r"
     ]
    },
    {
     "name": "stdout",
     "output_type": "stream",
     "text": [
      "El tiempo medio de viaje es: 15 minutos y 32 segundos\n"
     ]
    },
    {
     "name": "stderr",
     "output_type": "stream",
     "text": [
      "[Stage 20:=============================>                            (1 + 1) / 2]\r"
     ]
    },
    {
     "name": "stdout",
     "output_type": "stream",
     "text": [
      "+--------+-----+\n",
      "|zip_code|count|\n",
      "+--------+-----+\n",
      "|   28039| 1415|\n",
      "|   28500|   53|\n",
      "|  28028 |    7|\n",
      "|   28600|   19|\n",
      "|28002   |   20|\n",
      "|   28707|   24|\n",
      "|   28053|  429|\n",
      "|   28034|  206|\n",
      "|   28341|   11|\n",
      "|   28945|    9|\n",
      "|   28914|   34|\n",
      "|   28019|  973|\n",
      "|   28400|   87|\n",
      "|   28220|   85|\n",
      "|   28840|   20|\n",
      "|   28020| 2565|\n",
      "|   28450|   12|\n",
      "|   28027|  989|\n",
      "|   28011| 1040|\n",
      "|   28350|    8|\n",
      "+--------+-----+\n",
      "only showing top 20 rows\n",
      "\n"
     ]
    },
    {
     "name": "stderr",
     "output_type": "stream",
     "text": [
      "                                                                                \r"
     ]
    }
   ],
   "source": [
    "\n",
    "df_filtrado = df_Datos12_2020.filter(\n",
    "    (df_Datos12_2020['ageRange'] != 0) &\n",
    "    (df_Datos12_2020['travel_time'] > 60) &\n",
    "    (df_Datos12_2020['zip_code'][0:2] == '28') &\n",
    "    (df_Datos12_2020['user_type'] != 3)\n",
    ")\n",
    "\n",
    "\n",
    "#Podemos realizar clusters sobre el tiempo o calcular la media simplemente\n",
    "from pyspark.sql.functions import mean\n",
    "\n",
    "travel_time = df_filtrado.select(['travel_time'])\n",
    "mean_time = df_filtrado.select(mean('travel_time')).collect()[0][0]\n",
    "print(f\"El tiempo medio de viaje es: {int(mean_time // 60)} minutos y {int(mean_time % 60)} segundos\")\n",
    "\n",
    "df_filtrado.groupBy(['zip_code']).count().show() #Cabe resaltar que hay códigos postales que no tienen sentido y habría que eliminar \n"
   ]
  },
  {
   "cell_type": "code",
   "execution_count": 8,
   "metadata": {},
   "outputs": [],
   "source": [
    "#Vamos a finalizar la anterior sesion de spark\n",
    "spark.stop()"
   ]
  },
  {
   "attachments": {},
   "cell_type": "markdown",
   "metadata": {},
   "source": [
    "#### Ahora vamos a trabajar con los archivos de otra forma distinta al DataFrame, usando rdd. \n",
    "\n",
    "Al ver dos formas distintas de trabajar vamos a poder analizar y comprender las ventajas y desventajes con el fin de saber que opción utilizar en cada uno de los casos que se presentarán en los problemas\n"
   ]
  },
  {
   "cell_type": "code",
   "execution_count": 11,
   "metadata": {},
   "outputs": [
    {
     "name": "stdout",
     "output_type": "stream",
     "text": [
      "{\"_id\": {\"$oid\": \"5fcc10fc1b91315b982817bd\"}, \"user_day_code\": \"1b9453cb0a60d9826d01a247deb208cff8f47a4cc74903b09a09571877e10738\", \"idplug_base\": 16, \"user_type\": 1, \"idunplug_base\": 8, \"travel_time\": 337, \"idunplug_station\": 71, \"ageRange\": 4, \"idplug_station\": 182, \"unplug_hourTime\": \"2020-12-01T00:00:00Z\", \"zip_code\": \"28012\"}\n",
      "{\"_id\": {\"$oid\": \"5fcc10fc1b91315b982817be\"}, \"user_day_code\": \"29fe8cf0fb57fdfc4c1ef5a51fbd1222afea11d33a6e090a0b642ee1b92b2aa8\", \"idplug_base\": 19, \"user_type\": 1, \"idunplug_base\": 1, \"travel_time\": 190, \"idunplug_station\": 35, \"ageRange\": 0, \"idplug_station\": 18, \"unplug_hourTime\": \"2020-12-01T00:00:00Z\", \"zip_code\": \"\"}\n",
      "{\"_id\": {\"$oid\": \"5fcc10fc1b91315b982817c0\"}, \"user_day_code\": \"051f14e387dd8f5442f9c4cd6e3db915c48ff64bbb8c531df085b392d902ee25\", \"idplug_base\": 14, \"user_type\": 1, \"idunplug_base\": 21, \"travel_time\": 354, \"idunplug_station\": 46, \"ageRange\": 4, \"idplug_station\": 175, \"unplug_hourTime\": \"2020-12-01T00:00:00Z\", \"zip_code\": \"28012\"}\n",
      "{\"_id\": {\"$oid\": \"5fcc10fc1b91315b982817c9\"}, \"user_day_code\": \"22027cf06c0f88ce8aa25455e7571c24ba7c3a200cd1a1147fdd0dc2831f4cb2\", \"idplug_base\": 19, \"user_type\": 1, \"idunplug_base\": 8, \"travel_time\": 554, \"idunplug_station\": 58, \"ageRange\": 0, \"idplug_station\": 57, \"unplug_hourTime\": \"2020-12-01T00:00:00Z\", \"zip_code\": \"\"}\n",
      "{\"_id\": {\"$oid\": \"5fcc10fc1b91315b982817ca\"}, \"user_day_code\": \"fd0e999b7061ad83e4e7436aca5045710f2f6b6275327b342ac8a34d27ca1103\", \"idplug_base\": 23, \"user_type\": 1, \"idunplug_base\": 2, \"travel_time\": 774, \"idunplug_station\": 57, \"ageRange\": 4, \"idplug_station\": 170, \"unplug_hourTime\": \"2020-12-01T00:00:00Z\", \"zip_code\": \"28004\"}\n",
      "{\"_id\": {\"$oid\": \"5fcc10fc1b91315b982817cb\"}, \"user_day_code\": \"3775182f8dddbfc451255f0cffb69d9ff3722bdc81496a5842371c9b1cd030a1\", \"idplug_base\": 8, \"user_type\": 1, \"idunplug_base\": 15, \"travel_time\": 921, \"idunplug_station\": 104, \"ageRange\": 0, \"idplug_station\": 4, \"unplug_hourTime\": \"2020-12-01T00:00:00Z\", \"zip_code\": \"\"}\n",
      "{\"_id\": {\"$oid\": \"5fcc10fc1b91315b982817cf\"}, \"user_day_code\": \"5b25dfe29e1d6347875eea4a7ece5ca2c1b657ecee55dc050297400119c1cf7e\", \"idplug_base\": 4, \"user_type\": 1, \"idunplug_base\": 19, \"travel_time\": 233, \"idunplug_station\": 54, \"ageRange\": 5, \"idplug_station\": 134, \"unplug_hourTime\": \"2020-12-01T00:00:00Z\", \"zip_code\": \"28015\"}\n",
      "{\"_id\": {\"$oid\": \"5fcc10fc1b91315b982817d0\"}, \"user_day_code\": \"247ec427204a64b9cb7305999214d693ac5fc3e48efc7a3af41d00e05017e352\", \"idplug_base\": 1, \"user_type\": 1, \"idunplug_base\": 21, \"travel_time\": 1020, \"idunplug_station\": 58, \"ageRange\": 0, \"idplug_station\": 136, \"unplug_hourTime\": \"2020-12-01T00:00:00Z\", \"zip_code\": \"\"}\n",
      "{\"_id\": {\"$oid\": \"5fcc10fc1b91315b982817d2\"}, \"user_day_code\": \"253b39c1c7c37a35cd36c1c05043bfc65b944cce0568752c6fdf699efa93db24\", \"idplug_base\": 20, \"user_type\": 1, \"idunplug_base\": 11, \"travel_time\": 1209, \"idunplug_station\": 145, \"ageRange\": 4, \"idplug_station\": 89, \"unplug_hourTime\": \"2020-12-01T00:00:00Z\", \"zip_code\": \"28007\"}\n",
      "{\"_id\": {\"$oid\": \"5fcc10fc1b91315b982817d4\"}, \"user_day_code\": \"3130c738536edae5629e0f9b8dbf0ccbc6c08b4600d2e32349b11bd9ec308154\", \"idplug_base\": 6, \"user_type\": 1, \"idunplug_base\": 10, \"travel_time\": 544, \"idunplug_station\": 215, \"ageRange\": 3, \"idplug_station\": 225, \"unplug_hourTime\": \"2020-12-01T00:00:00Z\", \"zip_code\": \"\"}\n",
      "\n"
     ]
    }
   ],
   "source": [
    "#Mostramos el contenido del archivo de movements\n",
    "import subprocess\n",
    "\n",
    "ruta_archivo = '/home/david/Escritorio/BiciMad/datos/movements/202012_movements.json'\n",
    "# Ejecuta el comando head -10 en la ruta del archivo\n",
    "resultado = subprocess.run(['head', '-10', ruta_archivo], capture_output=True, text=True)\n",
    "\n",
    "# Imprime el resultado\n",
    "print(resultado.stdout)\n"
   ]
  },
  {
   "cell_type": "code",
   "execution_count": 14,
   "metadata": {},
   "outputs": [],
   "source": [
    "from pyspark import SparkContext\n",
    "sc = SparkContext()\n"
   ]
  },
  {
   "cell_type": "code",
   "execution_count": 15,
   "metadata": {},
   "outputs": [],
   "source": [
    "import json\n",
    "\n",
    "rdd_Datos12_2020 = sc.textFile(ruta_archivo)"
   ]
  },
  {
   "cell_type": "code",
   "execution_count": 16,
   "metadata": {},
   "outputs": [
    {
     "name": "stderr",
     "output_type": "stream",
     "text": [
      "                                                                                \r"
     ]
    },
    {
     "data": {
      "text/plain": [
       "265261"
      ]
     },
     "execution_count": 16,
     "metadata": {},
     "output_type": "execute_result"
    }
   ],
   "source": [
    "#Si queremos una columna en especial\n",
    "\n",
    "def columna(line):\n",
    "    data = json.loads(line)\n",
    "    u_t = data['user_type']\n",
    "    return u_t\n",
    "\n",
    "tipo_usuarios = rdd_Datos12_2020.map(columna)\n",
    "\n",
    "tipo_usuarios.take(10)\n",
    "\n",
    "#Si queremos la cantidad de usuarios estableciendo un sistema de valores donde su valor está en función de su tipo de usuario\n",
    "\n",
    "tipo_usuarios.count()"
   ]
  },
  {
   "attachments": {},
   "cell_type": "markdown",
   "metadata": {},
   "source": [
    "#### Vamos a quedarnos con los datos del fichero que nos interesen"
   ]
  },
  {
   "cell_type": "code",
   "execution_count": 17,
   "metadata": {},
   "outputs": [
    {
     "name": "stderr",
     "output_type": "stream",
     "text": [
      "                                                                                \r"
     ]
    },
    {
     "data": {
      "text/plain": [
       "[(1,\n",
       "  '1b9453cb0a60d9826d01a247deb208cff8f47a4cc74903b09a09571877e10738',\n",
       "  71,\n",
       "  182,\n",
       "  337),\n",
       " (1,\n",
       "  '29fe8cf0fb57fdfc4c1ef5a51fbd1222afea11d33a6e090a0b642ee1b92b2aa8',\n",
       "  35,\n",
       "  18,\n",
       "  190)]"
      ]
     },
     "execution_count": 17,
     "metadata": {},
     "output_type": "execute_result"
    }
   ],
   "source": [
    "\n",
    "def mapper(line):\n",
    "    data = json.loads(line)\n",
    "    u_t = data['user_type']\n",
    "    u_c = data['user_day_code']\n",
    "    start = data['idunplug_station']\n",
    "    end = data['idplug_station']\n",
    "    time = data['travel_time']\n",
    "    return u_t, u_c, start, end, time\n",
    "\n",
    "rdd = rdd_Datos12_2020.map(mapper)\n",
    "rdd.take(2)"
   ]
  },
  {
   "attachments": {},
   "cell_type": "markdown",
   "metadata": {},
   "source": [
    "#### Vamos a realizar un proceso análogo al que hicimos con las edades"
   ]
  },
  {
   "cell_type": "code",
   "execution_count": 20,
   "metadata": {},
   "outputs": [
    {
     "name": "stderr",
     "output_type": "stream",
     "text": [
      "/tmp/ipykernel_6033/2284089792.py:15: UserWarning: Matplotlib is currently using module://matplotlib_inline.backend_inline, which is a non-GUI backend, so cannot show the figure.\n",
      "  fig.show()\n"
     ]
    },
    {
     "name": "stdout",
     "output_type": "stream",
     "text": [
      "Mostrados los datos en relación a las edades defaultdict(<class 'int'>, {4: 56279, 0: 144033, 5: 49799, 3: 10573, 1: 2221, 6: 1310, 2: 1046})\n"
     ]
    },
    {
     "data": {
      "image/png": "[encoded data removed]",
      "text/plain": [
       "<Figure size 432x288 with 1 Axes>"
      ]
     },
     "metadata": {
      "needs_background": "light"
     },
     "output_type": "display_data"
    }
   ],
   "source": [
    "\n",
    "def map_age(line):\n",
    "    data = json.loads(line)\n",
    "    a_r = data['ageRange']\n",
    "    return a_r\n",
    "\n",
    "edades = rdd_Datos12_2020.map(map_age).countByValue()\n",
    "print(\"Mostrados los datos en relación a las edades\",edades)\n",
    "\n",
    "#Realizaremos un histograma como antes\n",
    "import matplotlib.pyplot as plt\n",
    "fig, ax = plt.subplots()\n",
    "ax.bar(list(edades.keys()),list(edades.values()))\n",
    "ax.set_xlabel(\"Edades\")\n",
    "ax.set_ylabel(\"Cantidad de viajes\")\n",
    "fig.show()\n"
   ]
  },
  {
   "attachments": {},
   "cell_type": "markdown",
   "metadata": {},
   "source": [
    "#### Vamos a mostrar como haríamos filtrado de datos"
   ]
  },
  {
   "cell_type": "code",
   "execution_count": 22,
   "metadata": {},
   "outputs": [
    {
     "name": "stderr",
     "output_type": "stream",
     "text": [
      "[Stage 7:=======================================>                   (2 + 1) / 3]\r"
     ]
    },
    {
     "name": "stdout",
     "output_type": "stream",
     "text": [
      "La cantidad de usuarios tipo 1 es: 255154\n"
     ]
    },
    {
     "name": "stderr",
     "output_type": "stream",
     "text": [
      "                                                                                \r"
     ]
    }
   ],
   "source": [
    "select_type = 1\n",
    "rdd_users = rdd.filter(lambda x: x[0] == select_type).map(lambda x: (x[1],tuple(x[2:])))\n",
    "\n",
    "rdd_users.take(2)\n",
    "\n",
    "print(\"La cantidad de usuarios tipo 1 es:\" ,rdd_users.count())"
   ]
  },
  {
   "attachments": {},
   "cell_type": "markdown",
   "metadata": {},
   "source": [
    "#### Vamos a comenzar con el trabajo de uno de los problemas posteriormente propuestos que tiene relación con las estaciones de origen y destino"
   ]
  },
  {
   "cell_type": "code",
   "execution_count": 23,
   "metadata": {},
   "outputs": [
    {
     "name": "stderr",
     "output_type": "stream",
     "text": [
      "[Stage 9:=======================================>                   (2 + 1) / 3]\r"
     ]
    },
    {
     "name": "stdout",
     "output_type": "stream",
     "text": [
      "La cantidad de viajes es: 255154\n"
     ]
    },
    {
     "name": "stderr",
     "output_type": "stream",
     "text": [
      "                                                                                \r"
     ]
    }
   ],
   "source": [
    "#Cantidad total de viajes\n",
    "rdd_trips = rdd_users.map(lambda x: (x[1][0],x[1][1]))\n",
    "rdd_trips.take(2)\n",
    "\n",
    "print(\"La cantidad de viajes es:\", rdd_trips.count())"
   ]
  },
  {
   "cell_type": "code",
   "execution_count": 32,
   "metadata": {},
   "outputs": [],
   "source": [
    "# Cerramos la sesión activa\n",
    "sc.stop()"
   ]
  },
  {
   "attachments": {},
   "cell_type": "markdown",
   "metadata": {},
   "source": [
    "## Situaciones de estaciones"
   ]
  },
  {
   "attachments": {},
   "cell_type": "markdown",
   "metadata": {},
   "source": [
    "Vamos a comenzar trabajando con datos de las estaciones con el fin de trabajar con un mapa que contenga los datos sobre las bicicletas disponibles\n",
    "\n",
    "Observación: aunque haya librerías importadas previamente las volvemos a importar ya que una de las utilidades de este notebook es mostrar las herramientas para trabajar con la resolución de problemas"
   ]
  },
  {
   "cell_type": "code",
   "execution_count": 3,
   "metadata": {},
   "outputs": [],
   "source": [
    "import json\n",
    "from pyspark.sql import SparkSession\n",
    "spark = SparkSession.builder.appName('example').getOrCreate()"
   ]
  },
  {
   "cell_type": "code",
   "execution_count": 13,
   "metadata": {},
   "outputs": [
    {
     "name": "stdout",
     "output_type": "stream",
     "text": [
      "Vamos a obtener las columnas\n",
      " ['_id', 'stations']\n",
      "\n",
      "Vamos a mostar un ejemplo de los datos a usar\n",
      " [Row(_id='2020-12-01T00:56:04.683755', stations=[Row(activate=1, address='Puerta del Sol nº 1', dock_bikes=3, free_bases=26, id=1, latitude='40.4172137', light=0, longitude='-3.7018341', name='Puerta del Sol A', no_available=0, number='1a', reservations_count=0, total_bases=30), Row(activate=1, address='Puerta del Sol nº 1', dock_bikes=9, free_bases=18, id=2, latitude='40.41731271011562', light=2, longitude='-3.701602938060457', name='Puerta del Sol B', no_available=0, number='1b', reservations_count=0, total_bases=30), Row(activate=1, address='Calle Miguel Moya nº 1', dock_bikes=3, free_bases=19, id=3, latitude='40.4205886', light=0, longitude='-3.7058415', name='Miguel Moya', no_available=0, number='2', reservations_count=0, total_bases=24), Row(activate=1, address='Plaza del Conde Suchil nº 2-4', dock_bikes=12, free_bases=5, id=4, latitude='40.4302937', light=1, longitude='-3.7069171', name='Plaza Conde Suchil', no_available=0, number='3', reservations_count=0, total_bases=18), Row( ...\n"
     ]
    }
   ],
   "source": [
    "# Primero vamos a importar el archivo a utilizar\n",
    "import os\n",
    "\n",
    "# Obtenemos la ruta absoluta del archivo\n",
    "ruta_archivo = os.path.join(os.getcwd(), 'datos', 'stations',\"202012_stations.json\")\n",
    "\n",
    "df_Situaciones12_2020 = spark.read.json(ruta_archivo)\n",
    "print(\"Vamos a obtener las columnas\\n\" ,df_Situaciones12_2020.columns)\n",
    "print(\"\\nVamos a mostar un ejemplo de los datos a usar\\n\", str(df_Situaciones12_2020.take(1))[:1000], \"...\")\n"
   ]
  },
  {
   "cell_type": "code",
   "execution_count": 14,
   "metadata": {},
   "outputs": [
    {
     "name": "stdout",
     "output_type": "stream",
     "text": [
      "Vamos a obtener las columnas\n",
      " ['stations']\n",
      "\n",
      "Vamos a mostar un ejemplo de los datos a usar\n",
      " [Row(stations=[Row(activate=1, address='Puerta del Sol nº 1', dock_bikes=3, free_bases=26, id=1, latitude='40.4172137', light=0, longitude='-3.7018341', name='Puerta del Sol A', no_available=0, number='1a', reservations_count=0, total_bases=30), Row(activate=1, address='Puerta del Sol nº 1', dock_bikes=9, free_bases=18, id=2, latitude='40.41731271011562', light=2, longitude='-3.701602938060457', name='Puerta del Sol B', no_available=0, number='1b', reservations_count=0, total_bases=30), Row(activate=1, address='Calle Miguel Moya nº 1', dock_bikes=3, free_bases=19, id=3, latitude='40.4205886', light=0, longitude='-3.7058415', name='Miguel Moya', no_available=0, number='2', reservations_count=0, total_bases=24), Row(activate=1, address='Plaza del Conde Suchil nº 2-4', dock_bikes=12, free_bases=5, id=4, latitude='40.4302937', light=1, longitude='-3.7069171', name='Plaza Conde Suchil', no_available=0, number='3', reservations_count=0, total_bases=18), Row(activate=1, address='Calle Manuela ...\n"
     ]
    }
   ],
   "source": [
    "#Vamos a seleccionar stations\n",
    "stations = df_Situaciones12_2020.select('stations')\n",
    "print(\"Vamos a obtener las columnas\\n\" ,stations.columns) \n",
    "print(\"\\nVamos a mostar un ejemplo de los datos a usar\\n\", str(stations.take(1))[:1000], \"...\")"
   ]
  },
  {
   "attachments": {},
   "cell_type": "markdown",
   "metadata": {},
   "source": [
    "Ahora vamos a realizar una selección de datos para crear un mapa que será una parte fundamental en el desarrollo de uno de los problemas\n",
    " * name\n",
    " * longitude\n",
    " * latitude\n",
    " * id"
   ]
  },
  {
   "cell_type": "code",
   "execution_count": 15,
   "metadata": {},
   "outputs": [],
   "source": [
    "from pyspark.sql.functions import col\n",
    "seleccion = df_Situaciones12_2020.select(col(\"stations.name\"), col(\"stations.longitude\"), col(\"stations.latitude\"),col(\"stations.id\"))\n",
    "\n",
    "datos_seleccionados = (seleccion\n",
    "                .select(col(\"name\"), col(\"latitude\"), col(\"longitude\"), col(\"id\"))\n",
    "                .collect())\n",
    "\n",
    "result = []\n",
    "for row in datos_seleccionados:\n",
    "    result.append({\"name\": row[\"name\"], \"latitude\": row[\"latitude\"], \"longitude\": row[\"longitude\"], \"id\": row[\"id\"]})\n"
   ]
  },
  {
   "attachments": {},
   "cell_type": "markdown",
   "metadata": {},
   "source": [
    "Para esta parte del trabajo sólo necesitamos una línea ya que contiene toda la información necesaria para la creación del mapa"
   ]
  },
  {
   "cell_type": "code",
   "execution_count": 18,
   "metadata": {},
   "outputs": [
    {
     "name": "stdout",
     "output_type": "stream",
     "text": [
      "{0: {'name': 'Puerta del Sol A', 'latitude': '40.4172137', 'longitude': '-3.7018341', 'id': 1}, 1: {'name': 'Puerta del Sol B', 'latitude': '40.41731271011562', 'longitude': '-3.701602938060457', 'id': 2}, 2: {'name': 'Miguel Moya', 'latitude': '40.4205886', 'longitude': '-3.7058415', 'id': 3}, 3: {'name': 'Plaza Conde Suchil', 'latitude': '40.4302937', 'longitude': '-3.7069171', 'id': 4}, 4: {'name': 'Malasaña', 'latitude': '40.4285524', 'longitude': '-3.7025875', 'id': 5}, 5: {'name': 'Fuencarral', 'latitude': '40.42852', 'longitude': '-3.70205', 'id': 6}, 6: {'name': 'Colegio Arquitectos', 'latitude': '40.4241480', 'longitude': '-3.6984470', 'id': 7}, 7: {'name': 'Hortaleza', 'latitude': '40.4251906', 'longitude': '-3.6977715', 'id': 8}, 8: {'name': 'Alonso Martínez', 'latitude': '40.4278682', 'longitude': '-3.6954403', 'id': 9}, 9: {'name': 'Plaza de San Miguel', 'latitude': '40.4156057', 'longitude': '-3.7095084', 'id': 10}, 10: {'name': 'Marqués de la Ensenada', 'latitude': '40.4 ...\n"
     ]
    }
   ],
   "source": [
    "linea = result[0]\n",
    "datos_usar = {}\n",
    "\n",
    "for key, values in linea.items():\n",
    "    for i, value in enumerate(values):\n",
    "        datos_usar.setdefault(i, {})\n",
    "        datos_usar[i][key] = value\n",
    "        \n",
    "print(str(datos_usar)[:1000], \"...\")\n"
   ]
  },
  {
   "attachments": {},
   "cell_type": "markdown",
   "metadata": {},
   "source": [
    "Vamos a realizar la función para transformar el formato de la fecha a otro más sencillo"
   ]
  },
  {
   "cell_type": "code",
   "execution_count": 6,
   "metadata": {},
   "outputs": [
    {
     "name": "stdout",
     "output_type": "stream",
     "text": [
      "\n",
      "Un ejemplo de convertirlo a fecha Año-Mes-Dia,Hora,Minutos,Segundos es: 2020-12-01 00:56:04.683755\n",
      "Vamos a convertir 2020-12-01T00:56:04.683755: \n",
      " 2020-12-01 00:56:04.683755 \n"
     ]
    }
   ],
   "source": [
    "\n",
    "fechas = ['2020-12-01T00:56:04.683755', '2020-12-01T01:56:05.745624', '2020-12-01T02:56:07.043903']\n",
    "\n",
    "from datetime import datetime\n",
    "def fecha_util(line):\n",
    "\n",
    "    return datetime.strptime(line, \"%Y-%m-%dT%H:%M:%S.%f\")\n",
    "\n",
    "print(\"\\nUn ejemplo de convertirlo a fecha Año-Mes-Dia,Hora,Minutos,Segundos es:\",fecha_util('2020-12-01T00:56:04.683755'))\n",
    "print(f\"Vamos a convertir 2020-12-01T00:56:04.683755: \\n {fecha_util('2020-12-01T00:56:04.683755')} \")"
   ]
  }
 ],
 "metadata": {
  "kernelspec": {
   "display_name": "Python 3",
   "language": "python",
   "name": "python3"
  },
  "language_info": {
   "codemirror_mode": {
    "name": "ipython",
    "version": 3
   },
   "file_extension": ".py",
   "mimetype": "text/x-python",
   "name": "python",
   "nbconvert_exporter": "python",
   "pygments_lexer": "ipython3",
   "version": "3.10.6"
  },
  "orig_nbformat": 4,
  "vscode": {
   "interpreter": {
    "hash": "1554ca09010399fa294997e9b93fe3492fe8acfeb68a288697aa104cf34db993"
   }
  }
 },
 "nbformat": 4,
 "nbformat_minor": 2
}
