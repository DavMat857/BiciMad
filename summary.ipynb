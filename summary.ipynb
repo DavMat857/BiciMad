{
 "cells": [
  {
   "attachments": {},
   "cell_type": "markdown",
   "metadata": {},
   "source": [
    "## Problema 1"
   ]
  },
  {
   "attachments": {},
   "cell_type": "markdown",
   "metadata": {},
   "source": [
    "La empresa gestora de BiciMad se encuentra ante un problema que busca resolver a través de un estudio centrado en las edades y el tiempo promedio de viaje de sus usuarios. El propósito de este estudio es doble: por un lado, utilizar estos datos como criterios para su expansión a nuevas zonas y, por otro lado, establecer una promoción especial que ofrece un descuento a los usuarios.\n",
    "\n",
    "Para activar esta promoción, se ha decidido establecer un requisito específico: los usuarios deberán alcanzar un tiempo medio de uso determinado. De esta manera, se busca no solo incentivar un mayor uso de BiciMad, sino también promover el disfrute de los servicios que la empresa ofrece.\n",
    "\n",
    "Este análisis de las edades y los tiempos promedio de viaje proporcionará a BiciMad información valiosa para la toma de decisiones estratégicas. Con estos datos, la empresa podrá identificar áreas con una demanda más significativa, optimizar su expansión y, en última instancia, brindar un servicio más completo y adaptado a las necesidades de sus usuarios.\n",
    "\n",
    "#### Para ello usaremos el siguiente script\n",
    "\n",
    "`conteo_rango_edades.py`: lee una serie de base de datos en las que se encuentre información relacionada con ageRange, y se realiza un diagrama de los sectores, además calcula el tiempo medio de viaje.\n",
    "\n",
    " __observación__: para este análisis se han realizados dos caso:\n",
    " \n",
    " <ol>\n",
    " <li> Sin filtrado de datos: tomando directamente los datos </li>\n",
    " <li> Filtrando datos que consideramos poco importantes: una limpieza de datos, que se resume en eliminar los usuarios con edad no registrado </li>\n",
    " </ol>"
   ]
  },
  {
   "cell_type": "code",
   "execution_count": 1,
   "metadata": {},
   "outputs": [
    {
     "name": "stderr",
     "output_type": "stream",
     "text": [
      "python3: can't open file 'd:\\\\Documentos\\\\BiciMad-1\\\\conteo_rango_edades.py': [Errno 2] No such file or directory\n"
     ]
    }
   ],
   "source": [
    "!python3 conteo_rango_edades.py \"DatosDeUso_12_2020.json\""
   ]
  },
  {
   "attachments": {},
   "cell_type": "markdown",
   "metadata": {},
   "source": [
    "Ahora vamos a abrir dos imágenes una con un filtrado de datos y otro sin él"
   ]
  },
  {
   "cell_type": "code",
   "execution_count": 2,
   "metadata": {},
   "outputs": [
    {
     "ename": "FileNotFoundError",
     "evalue": "[Errno 2] No such file or directory: 'comparacion_rango_edades.png'",
     "output_type": "error",
     "traceback": [
      "\u001b[1;31m---------------------------------------------------------------------------\u001b[0m",
      "\u001b[1;31mFileNotFoundError\u001b[0m                         Traceback (most recent call last)",
      "Cell \u001b[1;32mIn[2], line 5\u001b[0m\n\u001b[0;32m      2\u001b[0m \u001b[39mimport\u001b[39;00m \u001b[39mmatplotlib\u001b[39;00m\u001b[39m.\u001b[39;00m\u001b[39mimage\u001b[39;00m \u001b[39mas\u001b[39;00m \u001b[39mmpimg\u001b[39;00m\n\u001b[0;32m      4\u001b[0m \u001b[39m# Cargar las imágenes\u001b[39;00m\n\u001b[1;32m----> 5\u001b[0m imagen1 \u001b[39m=\u001b[39m mpimg\u001b[39m.\u001b[39;49mimread(\u001b[39m'\u001b[39;49m\u001b[39mcomparacion_rango_edades.png\u001b[39;49m\u001b[39m'\u001b[39;49m)\n\u001b[0;32m      6\u001b[0m imagen2 \u001b[39m=\u001b[39m mpimg\u001b[39m.\u001b[39mimread(\u001b[39m'\u001b[39m\u001b[39mcomparacion_rango_edades_filtrado.png\u001b[39m\u001b[39m'\u001b[39m)\n\u001b[0;32m      8\u001b[0m \u001b[39m# Crear una figura y agregar subplots\u001b[39;00m\n",
      "File \u001b[1;32m~\\AppData\\Local\\Packages\\PythonSoftwareFoundation.Python.3.10_qbz5n2kfra8p0\\LocalCache\\local-packages\\Python310\\site-packages\\matplotlib\\image.py:1563\u001b[0m, in \u001b[0;36mimread\u001b[1;34m(fname, format)\u001b[0m\n\u001b[0;32m   1556\u001b[0m \u001b[39mif\u001b[39;00m \u001b[39misinstance\u001b[39m(fname, \u001b[39mstr\u001b[39m) \u001b[39mand\u001b[39;00m \u001b[39mlen\u001b[39m(parse\u001b[39m.\u001b[39murlparse(fname)\u001b[39m.\u001b[39mscheme) \u001b[39m>\u001b[39m \u001b[39m1\u001b[39m:\n\u001b[0;32m   1557\u001b[0m     \u001b[39m# Pillow doesn't handle URLs directly.\u001b[39;00m\n\u001b[0;32m   1558\u001b[0m     \u001b[39mraise\u001b[39;00m \u001b[39mValueError\u001b[39;00m(\n\u001b[0;32m   1559\u001b[0m         \u001b[39m\"\u001b[39m\u001b[39mPlease open the URL for reading and pass the \u001b[39m\u001b[39m\"\u001b[39m\n\u001b[0;32m   1560\u001b[0m         \u001b[39m\"\u001b[39m\u001b[39mresult to Pillow, e.g. with \u001b[39m\u001b[39m\"\u001b[39m\n\u001b[0;32m   1561\u001b[0m         \u001b[39m\"\u001b[39m\u001b[39m``np.array(PIL.Image.open(urllib.request.urlopen(url)))``.\u001b[39m\u001b[39m\"\u001b[39m\n\u001b[0;32m   1562\u001b[0m         )\n\u001b[1;32m-> 1563\u001b[0m \u001b[39mwith\u001b[39;00m img_open(fname) \u001b[39mas\u001b[39;00m image:\n\u001b[0;32m   1564\u001b[0m     \u001b[39mreturn\u001b[39;00m (_pil_png_to_float_array(image)\n\u001b[0;32m   1565\u001b[0m             \u001b[39mif\u001b[39;00m \u001b[39misinstance\u001b[39m(image, PIL\u001b[39m.\u001b[39mPngImagePlugin\u001b[39m.\u001b[39mPngImageFile) \u001b[39melse\u001b[39;00m\n\u001b[0;32m   1566\u001b[0m             pil_to_array(image))\n",
      "File \u001b[1;32m~\\AppData\\Local\\Packages\\PythonSoftwareFoundation.Python.3.10_qbz5n2kfra8p0\\LocalCache\\local-packages\\Python310\\site-packages\\PIL\\ImageFile.py:105\u001b[0m, in \u001b[0;36mImageFile.__init__\u001b[1;34m(self, fp, filename)\u001b[0m\n\u001b[0;32m    101\u001b[0m \u001b[39mself\u001b[39m\u001b[39m.\u001b[39mdecodermaxblock \u001b[39m=\u001b[39m MAXBLOCK\n\u001b[0;32m    103\u001b[0m \u001b[39mif\u001b[39;00m is_path(fp):\n\u001b[0;32m    104\u001b[0m     \u001b[39m# filename\u001b[39;00m\n\u001b[1;32m--> 105\u001b[0m     \u001b[39mself\u001b[39m\u001b[39m.\u001b[39mfp \u001b[39m=\u001b[39m \u001b[39mopen\u001b[39;49m(fp, \u001b[39m\"\u001b[39;49m\u001b[39mrb\u001b[39;49m\u001b[39m\"\u001b[39;49m)\n\u001b[0;32m    106\u001b[0m     \u001b[39mself\u001b[39m\u001b[39m.\u001b[39mfilename \u001b[39m=\u001b[39m fp\n\u001b[0;32m    107\u001b[0m     \u001b[39mself\u001b[39m\u001b[39m.\u001b[39m_exclusive_fp \u001b[39m=\u001b[39m \u001b[39mTrue\u001b[39;00m\n",
      "\u001b[1;31mFileNotFoundError\u001b[0m: [Errno 2] No such file or directory: 'comparacion_rango_edades.png'"
     ]
    }
   ],
   "source": [
    "import matplotlib.pyplot as plt\n",
    "import matplotlib.image as mpimg\n",
    "\n",
    "# Cargar las imágenes\n",
    "imagen1 = mpimg.imread('comparacion_rango_edades.png')\n",
    "imagen2 = mpimg.imread('comparacion_rango_edades_filtrado.png')\n",
    "\n",
    "# Crear una figura y agregar subplots\n",
    "fig, axes = plt.subplots(1, 2, figsize=(10, 5))\n",
    "\n",
    "# Mostrar las imágenes en los subplots\n",
    "axes[0].imshow(imagen1)\n",
    "axes[0].axis('off')\n",
    "axes[0].set_title('Sin filtrar datos')\n",
    "\n",
    "axes[1].imshow(imagen2)\n",
    "axes[1].axis('off')\n",
    "axes[1].set_title('Filtrando datos')\n",
    "\n",
    "# Ajustar la distribución de los subplots\n",
    "plt.tight_layout()\n",
    "\n",
    "# Mostrar la figura con las imágenes\n",
    "plt.show()\n"
   ]
  },
  {
   "attachments": {},
   "cell_type": "markdown",
   "metadata": {},
   "source": [
    "#### Conclusiones:\n",
    "\n",
    "* La mayoría de los usuarios no tienen registrado la edad. Por lo tanto, se sugiere considerar la posibilidad de realizar una promoción o incentivo para obtener más datos sobre los usuarios y poder personalizar las ofertas y servicios.\n",
    "\n",
    "* Observando la imagen proporcionada en la celda anterior, se puede notar que la mayoría de los usuarios registrados se encuentran en los grupos 4 y 5, correspondientes a edades entre 27 y 65 años. Esto indica que BiciMad tiene una buena aceptación en este rango de edad y puede enfocar sus estrategias de marketing y expansión en esta audiencia.\n",
    "\n",
    "* Los grupos 1 y 2, correspondientes a usuarios menores de edad, muestran una baja representación en los registros. Para captar y fidelizar a este grupo de usuarios jóvenes, se sugiere considerar la implementación de viajes gratuitos o bonos especiales que les brinden beneficios exclusivos. Esto ayudaría a generar interés y crear una base de usuarios sólida desde temprana edad."
   ]
  },
  {
   "attachments": {},
   "cell_type": "markdown",
   "metadata": {},
   "source": [
    "#### En relación al tiempo medio de viaje:\n",
    "\n",
    "Tenemos el dato de que el tiempo medio de viaje es 1056.55 segundos, que son 17.61 minutos.\n",
    "\n",
    "Teniendo en cuenta esta información, la empresa ha decidido poner en marcha una estrategia de descuento como incentivo para sus usuarios. La idea es utilizar el tiempo medio de viaje como criterio para determinar qué usuarios podrán acceder a este descuento especial. Aquellos usuarios que cumplan con el tiempo medio establecido serán beneficiados con una reducción en el costo de sus viajes.\n",
    "\n",
    "Esta estrategia de descuento basada en el tiempo medio de viaje tiene múltiples ventajas para la empresa. En primer lugar, fomenta un mayor uso de BiciMad al incentivar a los usuarios a realizar viajes más prolongados. Esto a su vez contribuye a un mayor tiempo de uso de las bicicletas y, potencialmente, a un aumento en los ingresos generados por el servicio.\n",
    "\n",
    "Además, esta estrategia permite recopilar información valiosa sobre los hábitos de uso de los usuarios. Al monitorear el tiempo medio de viaje y analizar los datos resultantes, la empresa puede obtener insights sobre las preferencias de los usuarios, los patrones de movilidad y las áreas de mayor interés. Esta información puede ser utilizada para mejorar la planificación de rutas, optimizar la distribución de estaciones y enfocar los esfuerzos de expansión en las áreas de mayor demanda."
   ]
  },
  {
   "attachments": {},
   "cell_type": "markdown",
   "metadata": {},
   "source": [
    "## Problema 2"
   ]
  },
  {
   "attachments": {},
   "cell_type": "markdown",
   "metadata": {},
   "source": [
    "Uno de los problemas que enfrenta la empresa gestora de BiciMad es la falta de visibilidad y comprensión sobre las estaciones más concurridas y los trayectos más populares a lo largo del día. Sin esta información, resulta difícil tomar decisiones estratégicas para mejorar la oferta de servicios y optimizar la ubicación de las estaciones en función de la demanda real. Para ello usaremos el script `mapa_dia.py`.\n",
    "\n",
    "Primero, el programa guarda las posiciones ([longitude,latitude]) y los identificadores de las estaciones activas para el día específico que se ha introducido como valor de entrada, y hace lo propio con las variables idplug_station (estación de enganche) e idunplug_station (estación de desenganche) del fichero que guarda los movimientos de los usuarios conectados a la red de Bicimad.\n",
    "\n",
    "Con esta información se evalúa cuáles han sido las estaciones más concurridas a lo largo del día introducido, y utilizando la librería de visualización geoespacial folium presentamos esta información en un mapa de forma que se pueda acceder a la información de enganches y desenganches de todas las estaciones, así como proporcionar una representación que (mediante una escala de color) permita conocer cuáles son las estaciones de mayor interés. Es importante remarcar que el formato de los archivos JSON debe ser el que siguen los archivos del año 2020 (véanse DatosDeUso_12_2020.json y SituacionesEstaciones12_2020.json como posibles referencias) de libre acceso en la página web de la EMT de Madrid https://opendata.emtmadrid.es/Datos-estaticos/Datos-generales.\n",
    "\n",
    "Además, se han delineado los trayectos con más apariciones en el conjunto de datos de uso de los cuáles se ha seleccionado top = 500 para visualizar las 500 rutas más concurridas a lo large de ese día, junto con la información de las estaciones explicada en el párrafo anterior. Si se desea, este valor puede cambiarse dentro del código para reducir o aumentar el número de rutas a considerar."
   ]
  },
  {
   "cell_type": "code",
   "execution_count": 3,
   "metadata": {},
   "outputs": [
    {
     "ename": "ModuleNotFoundError",
     "evalue": "No module named 'folium'",
     "output_type": "error",
     "traceback": [
      "\u001b[1;31m---------------------------------------------------------------------------\u001b[0m",
      "\u001b[1;31mModuleNotFoundError\u001b[0m                       Traceback (most recent call last)",
      "Cell \u001b[1;32mIn[3], line 2\u001b[0m\n\u001b[0;32m      1\u001b[0m \u001b[39mfrom\u001b[39;00m \u001b[39mpyspark\u001b[39;00m \u001b[39mimport\u001b[39;00m SparkContext, SparkConf\n\u001b[1;32m----> 2\u001b[0m \u001b[39mimport\u001b[39;00m \u001b[39mjson\u001b[39;00m\u001b[39m,\u001b[39m \u001b[39mfolium\u001b[39;00m\n\u001b[0;32m      3\u001b[0m \u001b[39mfrom\u001b[39;00m \u001b[39mmapa_dia\u001b[39;00m \u001b[39mimport\u001b[39;00m main\n\u001b[0;32m      5\u001b[0m conf \u001b[39m=\u001b[39m SparkConf()\u001b[39m.\u001b[39msetAppName(\u001b[39m\"\u001b[39m\u001b[39mmapaBicimad\u001b[39m\u001b[39m\"\u001b[39m)\n",
      "\u001b[1;31mModuleNotFoundError\u001b[0m: No module named 'folium'"
     ]
    }
   ],
   "source": [
    "from pyspark import SparkContext, SparkConf\n",
    "import json, folium\n",
    "from mapa_dia import main\n",
    "\n",
    "conf = SparkConf().setAppName(\"mapaBicimad\")\n",
    "sc = SparkContext(conf=conf) \n",
    "main(sc)"
   ]
  },
  {
   "cell_type": "code",
   "execution_count": 5,
   "metadata": {},
   "outputs": [
    {
     "data": {
      "text/plain": [
       "True"
      ]
     },
     "execution_count": 5,
     "metadata": {},
     "output_type": "execute_result"
    }
   ],
   "source": [
    "# Visualizamos el mapa creado\n",
    "import webbrowser\n",
    "\n",
    "file_path = \"mapa_madrid.html\"\n",
    "webbrowser.open(file_path)"
   ]
  },
  {
   "attachments": {},
   "cell_type": "markdown",
   "metadata": {},
   "source": [
    "\n",
    "**Solución**:\n",
    "\n",
    "Para abordar este problema, se ha desarrollado un programa que utiliza datos de posicionamiento y movimientos de los usuarios para identificar las estaciones más concurridas y visualizar esta información en un mapa interactivo. La solución se basa en los siguientes pasos:\n",
    "\n",
    "Recopilación de datos: El programa recopila información sobre las posiciones (longitude, latitude) y los identificadores de las estaciones activas para el día específico proporcionado como entrada. Además, se obtienen los datos de las estaciones de enganche y desenganche de los usuarios conectados a la red de BiciMad.\n",
    "\n",
    " Evaluación de las estaciones más concurridas: Utilizando los datos recopilados, se analiza cuáles han sido las estaciones más concurridas a lo largo del día. Esto se realiza teniendo en cuenta tanto las estaciones de enganche como las de desenganche de los usuarios. Esta evaluación proporciona una visión clara de las áreas de mayor interés y demanda en la red de BiciMad.\n",
    "\n",
    "Visualización en un mapa interactivo: Se utiliza la librería de visualización geoespacial folium para presentar la información recopilada en un mapa interactivo. El mapa muestra todas las estaciones y permite acceder a la información de enganches y desenganches de cada una. Además, se utiliza una escala de color para resaltar las estaciones de mayor interés, lo que facilita la identificación visual de las áreas más concurridas.\n",
    "\n",
    "Delineación de trayectos populares: Se seleccionan los trayectos más frecuentes en el conjunto de datos de uso. El programa permite ajustar el parámetro \"top\" para determinar el número de rutas a considerar. Por defecto, se visualizan las 500 rutas más concurridas del día. Esta información complementa la visualización de las estaciones, brindando una comprensión más completa de los patrones de movimiento de los usuarios.\n",
    "\n",
    "Esta solución permite a la empresa gestora de BiciMad obtener una visión clara de las estaciones más concurridas y los trayectos populares, lo que facilita la toma de decisiones estratégicas. Con esta información, la empresa puede optimizar la ubicación de las estaciones, ajustar la oferta de servicios en áreas de mayor demanda y mejorar la experiencia global de los usuarios. Además, la visualización en un mapa interactivo brinda una forma intuitiva de acceder y comprender la información, facilitando la identificación de patrones y tendencias importantes.\n"
   ]
  },
  {
   "cell_type": "code",
   "execution_count": null,
   "metadata": {},
   "outputs": [],
   "source": []
  }
 ],
 "metadata": {
  "kernelspec": {
   "display_name": "Python 3",
   "language": "python",
   "name": "python3"
  },
  "language_info": {
   "codemirror_mode": {
    "name": "ipython",
    "version": 3
   },
   "file_extension": ".py",
   "mimetype": "text/x-python",
   "name": "python",
   "nbconvert_exporter": "python",
   "pygments_lexer": "ipython3",
   "version": "3.10.11"
  },
  "orig_nbformat": 4,
  "vscode": {
   "interpreter": {
    "hash": "1554ca09010399fa294997e9b93fe3492fe8acfeb68a288697aa104cf34db993"
   }
  }
 },
 "nbformat": 4,
 "nbformat_minor": 2
}
